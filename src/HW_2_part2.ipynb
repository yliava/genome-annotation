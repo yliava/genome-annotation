{
  "nbformat": 4,
  "nbformat_minor": 0,
  "metadata": {
    "colab": {
      "provenance": [],
      "collapsed_sections": []
    },
    "kernelspec": {
      "name": "python3",
      "display_name": "Python 3"
    },
    "language_info": {
      "name": "python"
    }
  },
  "cells": [
    {
      "cell_type": "markdown",
      "source": [
        "## Скачиваем данные и устанавливаем программы"
      ],
      "metadata": {
        "id": "RL5ccL2X-e2o"
      }
    },
    {
      "cell_type": "code",
      "execution_count": null,
      "metadata": {
        "id": "RrQlG0Lu8q3W",
        "colab": {
          "base_uri": "https://localhost:8080/"
        },
        "outputId": "79b22661-1292-4487-d373-e862aa16febb"
      },
      "outputs": [
        {
          "output_type": "stream",
          "name": "stdout",
          "text": [
            "--2022-10-18 19:09:31--  https://raw.githubusercontent.com/yliava/hse22_hw2/main/data/gms2.lst\n",
            "Resolving raw.githubusercontent.com (raw.githubusercontent.com)... 185.199.108.133, 185.199.109.133, 185.199.110.133, ...\n",
            "Connecting to raw.githubusercontent.com (raw.githubusercontent.com)|185.199.108.133|:443... connected.\n",
            "HTTP request sent, awaiting response... 200 OK\n",
            "Length: 220925 (216K) [text/plain]\n",
            "Saving to: ‘gms2.lst.1’\n",
            "\n",
            "gms2.lst.1          100%[===================>] 215.75K  --.-KB/s    in 0.02s   \n",
            "\n",
            "2022-10-18 19:09:31 (11.6 MB/s) - ‘gms2.lst.1’ saved [220925/220925]\n",
            "\n"
          ]
        }
      ],
      "source": [
        "!wget https://raw.githubusercontent.com/yliava/hse22_hw2/main/data/gms2.lst"
      ]
    },
    {
      "cell_type": "code",
      "source": [
        "!wget https://raw.githubusercontent.com/yliava/hse22_hw2/main/data/proteins.fasta"
      ],
      "metadata": {
        "id": "HtogPhlc9vPN",
        "colab": {
          "base_uri": "https://localhost:8080/"
        },
        "outputId": "58dcb65f-36df-492b-92eb-c26bb0a3f0bc"
      },
      "execution_count": null,
      "outputs": [
        {
          "output_type": "stream",
          "name": "stdout",
          "text": [
            "--2022-10-18 19:12:00--  https://raw.githubusercontent.com/yliava/hse22_hw2/main/data/proteins.fasta\n",
            "Resolving raw.githubusercontent.com (raw.githubusercontent.com)... 185.199.108.133, 185.199.109.133, 185.199.110.133, ...\n",
            "Connecting to raw.githubusercontent.com (raw.githubusercontent.com)|185.199.108.133|:443... connected.\n",
            "HTTP request sent, awaiting response... 200 OK\n",
            "Length: 1404610 (1.3M) [text/plain]\n",
            "Saving to: ‘proteins.fasta’\n",
            "\n",
            "\rproteins.fasta        0%[                    ]       0  --.-KB/s               \rproteins.fasta      100%[===================>]   1.34M  --.-KB/s    in 0.04s   \n",
            "\n",
            "2022-10-18 19:12:01 (37.9 MB/s) - ‘proteins.fasta’ saved [1404610/1404610]\n",
            "\n"
          ]
        }
      ]
    },
    {
      "cell_type": "code",
      "source": [
        "!wget https://raw.githubusercontent.com/yliava/hse22_hw2/main/data/scaffolds.hits_from_MIL_1.txt"
      ],
      "metadata": {
        "id": "nOuWpSn7-Ewm",
        "colab": {
          "base_uri": "https://localhost:8080/"
        },
        "outputId": "e90f4e58-4bd7-4305-ccb6-bf6ac3a8ffc5"
      },
      "execution_count": null,
      "outputs": [
        {
          "output_type": "stream",
          "name": "stdout",
          "text": [
            "--2022-10-18 19:09:31--  https://raw.githubusercontent.com/yliava/hse22_hw2/main/data/scaffolds.hits_from_MIL_1.txt\n",
            "Resolving raw.githubusercontent.com (raw.githubusercontent.com)... 185.199.108.133, 185.199.109.133, 185.199.110.133, ...\n",
            "Connecting to raw.githubusercontent.com (raw.githubusercontent.com)|185.199.108.133|:443... connected.\n",
            "HTTP request sent, awaiting response... 200 OK\n",
            "Length: 836180 (817K) [text/plain]\n",
            "Saving to: ‘scaffolds.hits_from_MIL_1.txt.1’\n",
            "\n",
            "scaffolds.hits_from 100%[===================>] 816.58K  --.-KB/s    in 0.03s   \n",
            "\n",
            "2022-10-18 19:09:32 (24.5 MB/s) - ‘scaffolds.hits_from_MIL_1.txt.1’ saved [836180/836180]\n",
            "\n"
          ]
        }
      ]
    },
    {
      "cell_type": "code",
      "source": [
        "!wget https://raw.githubusercontent.com/yliava/hse22_hw2/main/data/scaffolds.hits_from_SwissProt.txt"
      ],
      "metadata": {
        "id": "1byVBM4r-KDZ",
        "colab": {
          "base_uri": "https://localhost:8080/"
        },
        "outputId": "e09677d8-5e39-45b2-abc7-9e19e7a9a4af"
      },
      "execution_count": null,
      "outputs": [
        {
          "output_type": "stream",
          "name": "stdout",
          "text": [
            "--2022-10-18 19:09:32--  https://raw.githubusercontent.com/yliava/hse22_hw2/main/data/scaffolds.hits_from_SwissProt.txt\n",
            "Resolving raw.githubusercontent.com (raw.githubusercontent.com)... 185.199.108.133, 185.199.109.133, 185.199.110.133, ...\n",
            "Connecting to raw.githubusercontent.com (raw.githubusercontent.com)|185.199.108.133|:443... connected.\n",
            "HTTP request sent, awaiting response... 200 OK\n",
            "Length: 66183 (65K) [text/plain]\n",
            "Saving to: ‘scaffolds.hits_from_SwissProt.txt.1’\n",
            "\n",
            "scaffolds.hits_from 100%[===================>]  64.63K  --.-KB/s    in 0.007s  \n",
            "\n",
            "2022-10-18 19:09:32 (8.73 MB/s) - ‘scaffolds.hits_from_SwissProt.txt.1’ saved [66183/66183]\n",
            "\n"
          ]
        }
      ]
    },
    {
      "cell_type": "code",
      "source": [
        "!wget https://raw.githubusercontent.com/yliava/hse22_hw1/main/data/Poil_gapClosed.fa"
      ],
      "metadata": {
        "id": "3e6LB0O-_g_o",
        "colab": {
          "base_uri": "https://localhost:8080/"
        },
        "outputId": "90121d5f-c21b-4630-9480-6e982d05e5db"
      },
      "execution_count": null,
      "outputs": [
        {
          "output_type": "stream",
          "name": "stdout",
          "text": [
            "--2022-10-18 19:09:32--  https://raw.githubusercontent.com/yliava/hse22_hw1/main/data/Poil_gapClosed.fa\n",
            "Resolving raw.githubusercontent.com (raw.githubusercontent.com)... 185.199.108.133, 185.199.109.133, 185.199.110.133, ...\n",
            "Connecting to raw.githubusercontent.com (raw.githubusercontent.com)|185.199.108.133|:443... connected.\n",
            "HTTP request sent, awaiting response... 200 OK\n",
            "Length: 3977716 (3.8M) [text/plain]\n",
            "Saving to: ‘Poil_gapClosed.fa.1’\n",
            "\n",
            "Poil_gapClosed.fa.1 100%[===================>]   3.79M  --.-KB/s    in 0.05s   \n",
            "\n",
            "2022-10-18 19:09:32 (69.5 MB/s) - ‘Poil_gapClosed.fa.1’ saved [3977716/3977716]\n",
            "\n"
          ]
        }
      ]
    },
    {
      "cell_type": "markdown",
      "source": [
        "## Скачиваем геном близкородственной бактерии T.oleivorans"
      ],
      "metadata": {
        "id": "XFu2xoYv-kHF"
      }
    },
    {
      "cell_type": "code",
      "source": [
        "!sh -c \"$(curl -fsSL ftp://ftp.ncbi.nlm.nih.gov/entrez/entrezdirect/install-edirect.sh)\""
      ],
      "metadata": {
        "colab": {
          "base_uri": "https://localhost:8080/"
        },
        "id": "q_7ddbuaiZRK",
        "outputId": "de62ec0a-8dfc-4ab4-dd6b-cee9386b49c3"
      },
      "execution_count": null,
      "outputs": [
        {
          "output_type": "stream",
          "name": "stdout",
          "text": [
            "\n",
            "Entrez Direct has been successfully downloaded and installed.\n",
            "\n",
            "In order to complete the configuration process, please execute the following:\n",
            "\n",
            "  echo \"export PATH=\\${PATH}:/root/edirect\" >> ${HOME}/.bashrc\n",
            "\n",
            "or manually edit the PATH variable assignment in your .bashrc file.\n",
            "\n",
            "Would you like to do that automatically now? [y/N]\n",
            "y\n",
            "OK, done.\n",
            "\n",
            "To activate EDirect for this terminal session, please execute the following:\n",
            "\n",
            "export PATH=${PATH}:${HOME}/edirect\n",
            "\n"
          ]
        }
      ]
    },
    {
      "cell_type": "code",
      "source": [
        "!$HOME/edirect/efetch -db nuccore -id HF680312 -format gb  >  T_oleivorans_MIL_1.gbk"
      ],
      "metadata": {
        "id": "V7YNDk-ticxf"
      },
      "execution_count": null,
      "outputs": []
    },
    {
      "cell_type": "code",
      "source": [
        "!pip install biopython"
      ],
      "metadata": {
        "id": "y-XL9FI_-qqe",
        "colab": {
          "base_uri": "https://localhost:8080/"
        },
        "outputId": "7188cb9e-2d40-4570-8d69-80213557466f"
      },
      "execution_count": null,
      "outputs": [
        {
          "output_type": "stream",
          "name": "stdout",
          "text": [
            "Looking in indexes: https://pypi.org/simple, https://us-python.pkg.dev/colab-wheels/public/simple/\n",
            "Requirement already satisfied: biopython in /usr/local/lib/python3.7/dist-packages (1.79)\n",
            "Requirement already satisfied: numpy in /usr/local/lib/python3.7/dist-packages (from biopython) (1.21.6)\n"
          ]
        }
      ]
    },
    {
      "cell_type": "code",
      "source": [
        "from Bio import SeqIO\n",
        "from Bio.Seq import Seq\n",
        "from Bio.SeqUtils import GC\n",
        "from Bio.Data import CodonTable\n",
        "from Bio import Entrez\n",
        "from Bio.SeqFeature import SeqFeature, FeatureLocation\n",
        "from datetime import datetime as dt\n",
        "import pandas as pd"
      ],
      "metadata": {
        "id": "3MJDHQox-ubG"
      },
      "execution_count": null,
      "outputs": []
    },
    {
      "cell_type": "code",
      "source": [
        "!head -n 40 gms2.lst"
      ],
      "metadata": {
        "id": "re89hWKv-85N"
      },
      "execution_count": null,
      "outputs": []
    },
    {
      "cell_type": "markdown",
      "source": [
        "##Аннотация генома"
      ],
      "metadata": {
        "id": "wwhjI2-CjGeX"
      }
    },
    {
      "cell_type": "code",
      "source": [
        "scaffolds = dict()\n",
        "for record in SeqIO.parse(\"/content/Poil_gapClosed.fa\", \"fasta\"):\n",
        "  record.annotations['molecule_type'] = 'DNA'\n",
        "  record.annotations['date'] = dt.now().strftime(\"%d-%b-%Y\").upper()\n",
        "  record.annotations['data_file_division'] = 'BCT'\n",
        "  \n",
        "  scaffolds[record.id] = record"
      ],
      "metadata": {
        "id": "7h8dXk1p_enM"
      },
      "execution_count": null,
      "outputs": []
    },
    {
      "cell_type": "code",
      "source": [
        "genes = dict()\n",
        "for gene in SeqIO.parse(\"proteins.fasta\", \"fasta\"):\n",
        "  desc = gene.description.split(' ')\n",
        "  scaffold = desc[1]\n",
        "  start, end = int(desc[2]), int(desc[3])\n",
        "  strand = 1 if desc[4] == '+' else -1\n",
        "  \n",
        "  feat = SeqFeature(FeatureLocation(start, end, strand=strand), type=\"CDS\")\n",
        "  feat.qualifiers['locus_tag'] = [desc[0]]\n",
        "  feat.qualifiers['translation'] = [gene.seq]\n",
        "  scaffolds[scaffold].features.append(feat)\n",
        "  \n",
        "  genes[desc[0]] = feat\n"
      ],
      "metadata": {
        "id": "erjD3AkQCut7"
      },
      "execution_count": null,
      "outputs": []
    },
    {
      "cell_type": "code",
      "source": [
        "feat.qualifiers"
      ],
      "metadata": {
        "colab": {
          "base_uri": "https://localhost:8080/"
        },
        "id": "Y8WXFs9yg2Lr",
        "outputId": "82683bbf-9465-49fc-9436-57b4242f060c"
      },
      "execution_count": null,
      "outputs": [
        {
          "output_type": "execute_result",
          "data": {
            "text/plain": [
              "OrderedDict([('locus_tag', ['3622']),\n",
              "             ('translation',\n",
              "              [Seq('GLPLYRMETIFKRMGIHLPRNTLANWMIKSSECLQPLYNLLNDQLLESGYLHMD...DDY')])])"
            ]
          },
          "metadata": {},
          "execution_count": 16
        }
      ]
    },
    {
      "cell_type": "markdown",
      "source": [
        "## Добавление функций белков из MIL_1 и БД (SwissProt)"
      ],
      "metadata": {
        "id": "88guxrD_jp9X"
      }
    },
    {
      "cell_type": "code",
      "source": [
        "mil_1_genes = dict()\n",
        "for feat in SeqIO.read(\"T_oleivorans_MIL_1.gbk\", \"genbank\").features:\n",
        "  if 'protein_id' not in feat.qualifiers:\n",
        "    continue\n",
        "  if 'product' not in feat.qualifiers:\n",
        "    continue\n",
        "  \n",
        "  mil_1_genes[feat.qualifiers['protein_id'][0]] = feat.qualifiers['product'][0]"
      ],
      "metadata": {
        "id": "z99_6f10hABX"
      },
      "execution_count": null,
      "outputs": []
    },
    {
      "cell_type": "code",
      "source": [
        "names = ['qseqid', 'sseqid', 'pident', 'length', 'mismatch', 'gapopen', 'qstart', 'qend', 'sstart', 'send', 'evalue', 'bitscore']\n",
        "mil_1_hits = pd.read_csv('scaffolds.hits_from_MIL_1.txt', sep='\\t', header=None, names=names)\n",
        "mil_1_hits"
      ],
      "metadata": {
        "colab": {
          "base_uri": "https://localhost:8080/",
          "height": 522
        },
        "id": "kFWSInu3jOA-",
        "outputId": "8fbb08f5-e78e-436b-9763-21b2dc792f9e"
      },
      "execution_count": null,
      "outputs": [
        {
          "output_type": "execute_result",
          "data": {
            "text/plain": [
              "       qseqid                               sseqid   pident  length  mismatch  \\\n",
              "0           2  lcl|HF680312.1_prot_CCU71928.1_1479  100.000     173         0   \n",
              "1           4  lcl|HF680312.1_prot_CCU71924.1_1475   97.143      35         1   \n",
              "2           5  lcl|HF680312.1_prot_CCU71587.1_1138   98.770     244         3   \n",
              "3           5  lcl|HF680312.1_prot_CCU72192.1_1743   41.634     257       132   \n",
              "4           6  lcl|HF680312.1_prot_CCU71586.1_1137  100.000     391         0   \n",
              "...       ...                                  ...      ...     ...       ...   \n",
              "10083    3575  lcl|HF680312.1_prot_CCU73517.1_3068   96.552     116         4   \n",
              "10084    3575  lcl|HF680312.1_prot_CCU73713.1_3264   96.552     116         4   \n",
              "10085    3575  lcl|HF680312.1_prot_CCU73876.1_3427   96.552     116         4   \n",
              "10086    3575  lcl|HF680312.1_prot_CCU73197.1_2748   96.552     116         4   \n",
              "10087    3575  lcl|HF680312.1_prot_CCU73034.1_2585   96.552     116         4   \n",
              "\n",
              "       gapopen  qstart  qend  sstart  send         evalue  bitscore  \n",
              "0            0       1   173       1   173  1.660000e-130     359.0  \n",
              "1            0       1    35       1    35   1.510000e-19      75.1  \n",
              "2            0       1   244      38   281  2.170000e-171     470.0  \n",
              "3            7       1   244      38   289   1.720000e-47     155.0  \n",
              "4            0       1   391       1   391   0.000000e+00     810.0  \n",
              "...        ...     ...   ...     ...   ...            ...       ...  \n",
              "10083        0       1   116     216   331   4.090000e-80     241.0  \n",
              "10084        0       1   116     216   331   5.770000e-80     241.0  \n",
              "10085        0       1   116     223   338   8.800000e-80     241.0  \n",
              "10086        0       1   116     223   338   8.800000e-80     241.0  \n",
              "10087        0       1   116     223   338   8.800000e-80     241.0  \n",
              "\n",
              "[10088 rows x 12 columns]"
            ],
            "text/html": [
              "\n",
              "  <div id=\"df-c96e0bc7-cc5d-422a-a4f6-c139c9f7269c\">\n",
              "    <div class=\"colab-df-container\">\n",
              "      <div>\n",
              "<style scoped>\n",
              "    .dataframe tbody tr th:only-of-type {\n",
              "        vertical-align: middle;\n",
              "    }\n",
              "\n",
              "    .dataframe tbody tr th {\n",
              "        vertical-align: top;\n",
              "    }\n",
              "\n",
              "    .dataframe thead th {\n",
              "        text-align: right;\n",
              "    }\n",
              "</style>\n",
              "<table border=\"1\" class=\"dataframe\">\n",
              "  <thead>\n",
              "    <tr style=\"text-align: right;\">\n",
              "      <th></th>\n",
              "      <th>qseqid</th>\n",
              "      <th>sseqid</th>\n",
              "      <th>pident</th>\n",
              "      <th>length</th>\n",
              "      <th>mismatch</th>\n",
              "      <th>gapopen</th>\n",
              "      <th>qstart</th>\n",
              "      <th>qend</th>\n",
              "      <th>sstart</th>\n",
              "      <th>send</th>\n",
              "      <th>evalue</th>\n",
              "      <th>bitscore</th>\n",
              "    </tr>\n",
              "  </thead>\n",
              "  <tbody>\n",
              "    <tr>\n",
              "      <th>0</th>\n",
              "      <td>2</td>\n",
              "      <td>lcl|HF680312.1_prot_CCU71928.1_1479</td>\n",
              "      <td>100.000</td>\n",
              "      <td>173</td>\n",
              "      <td>0</td>\n",
              "      <td>0</td>\n",
              "      <td>1</td>\n",
              "      <td>173</td>\n",
              "      <td>1</td>\n",
              "      <td>173</td>\n",
              "      <td>1.660000e-130</td>\n",
              "      <td>359.0</td>\n",
              "    </tr>\n",
              "    <tr>\n",
              "      <th>1</th>\n",
              "      <td>4</td>\n",
              "      <td>lcl|HF680312.1_prot_CCU71924.1_1475</td>\n",
              "      <td>97.143</td>\n",
              "      <td>35</td>\n",
              "      <td>1</td>\n",
              "      <td>0</td>\n",
              "      <td>1</td>\n",
              "      <td>35</td>\n",
              "      <td>1</td>\n",
              "      <td>35</td>\n",
              "      <td>1.510000e-19</td>\n",
              "      <td>75.1</td>\n",
              "    </tr>\n",
              "    <tr>\n",
              "      <th>2</th>\n",
              "      <td>5</td>\n",
              "      <td>lcl|HF680312.1_prot_CCU71587.1_1138</td>\n",
              "      <td>98.770</td>\n",
              "      <td>244</td>\n",
              "      <td>3</td>\n",
              "      <td>0</td>\n",
              "      <td>1</td>\n",
              "      <td>244</td>\n",
              "      <td>38</td>\n",
              "      <td>281</td>\n",
              "      <td>2.170000e-171</td>\n",
              "      <td>470.0</td>\n",
              "    </tr>\n",
              "    <tr>\n",
              "      <th>3</th>\n",
              "      <td>5</td>\n",
              "      <td>lcl|HF680312.1_prot_CCU72192.1_1743</td>\n",
              "      <td>41.634</td>\n",
              "      <td>257</td>\n",
              "      <td>132</td>\n",
              "      <td>7</td>\n",
              "      <td>1</td>\n",
              "      <td>244</td>\n",
              "      <td>38</td>\n",
              "      <td>289</td>\n",
              "      <td>1.720000e-47</td>\n",
              "      <td>155.0</td>\n",
              "    </tr>\n",
              "    <tr>\n",
              "      <th>4</th>\n",
              "      <td>6</td>\n",
              "      <td>lcl|HF680312.1_prot_CCU71586.1_1137</td>\n",
              "      <td>100.000</td>\n",
              "      <td>391</td>\n",
              "      <td>0</td>\n",
              "      <td>0</td>\n",
              "      <td>1</td>\n",
              "      <td>391</td>\n",
              "      <td>1</td>\n",
              "      <td>391</td>\n",
              "      <td>0.000000e+00</td>\n",
              "      <td>810.0</td>\n",
              "    </tr>\n",
              "    <tr>\n",
              "      <th>...</th>\n",
              "      <td>...</td>\n",
              "      <td>...</td>\n",
              "      <td>...</td>\n",
              "      <td>...</td>\n",
              "      <td>...</td>\n",
              "      <td>...</td>\n",
              "      <td>...</td>\n",
              "      <td>...</td>\n",
              "      <td>...</td>\n",
              "      <td>...</td>\n",
              "      <td>...</td>\n",
              "      <td>...</td>\n",
              "    </tr>\n",
              "    <tr>\n",
              "      <th>10083</th>\n",
              "      <td>3575</td>\n",
              "      <td>lcl|HF680312.1_prot_CCU73517.1_3068</td>\n",
              "      <td>96.552</td>\n",
              "      <td>116</td>\n",
              "      <td>4</td>\n",
              "      <td>0</td>\n",
              "      <td>1</td>\n",
              "      <td>116</td>\n",
              "      <td>216</td>\n",
              "      <td>331</td>\n",
              "      <td>4.090000e-80</td>\n",
              "      <td>241.0</td>\n",
              "    </tr>\n",
              "    <tr>\n",
              "      <th>10084</th>\n",
              "      <td>3575</td>\n",
              "      <td>lcl|HF680312.1_prot_CCU73713.1_3264</td>\n",
              "      <td>96.552</td>\n",
              "      <td>116</td>\n",
              "      <td>4</td>\n",
              "      <td>0</td>\n",
              "      <td>1</td>\n",
              "      <td>116</td>\n",
              "      <td>216</td>\n",
              "      <td>331</td>\n",
              "      <td>5.770000e-80</td>\n",
              "      <td>241.0</td>\n",
              "    </tr>\n",
              "    <tr>\n",
              "      <th>10085</th>\n",
              "      <td>3575</td>\n",
              "      <td>lcl|HF680312.1_prot_CCU73876.1_3427</td>\n",
              "      <td>96.552</td>\n",
              "      <td>116</td>\n",
              "      <td>4</td>\n",
              "      <td>0</td>\n",
              "      <td>1</td>\n",
              "      <td>116</td>\n",
              "      <td>223</td>\n",
              "      <td>338</td>\n",
              "      <td>8.800000e-80</td>\n",
              "      <td>241.0</td>\n",
              "    </tr>\n",
              "    <tr>\n",
              "      <th>10086</th>\n",
              "      <td>3575</td>\n",
              "      <td>lcl|HF680312.1_prot_CCU73197.1_2748</td>\n",
              "      <td>96.552</td>\n",
              "      <td>116</td>\n",
              "      <td>4</td>\n",
              "      <td>0</td>\n",
              "      <td>1</td>\n",
              "      <td>116</td>\n",
              "      <td>223</td>\n",
              "      <td>338</td>\n",
              "      <td>8.800000e-80</td>\n",
              "      <td>241.0</td>\n",
              "    </tr>\n",
              "    <tr>\n",
              "      <th>10087</th>\n",
              "      <td>3575</td>\n",
              "      <td>lcl|HF680312.1_prot_CCU73034.1_2585</td>\n",
              "      <td>96.552</td>\n",
              "      <td>116</td>\n",
              "      <td>4</td>\n",
              "      <td>0</td>\n",
              "      <td>1</td>\n",
              "      <td>116</td>\n",
              "      <td>223</td>\n",
              "      <td>338</td>\n",
              "      <td>8.800000e-80</td>\n",
              "      <td>241.0</td>\n",
              "    </tr>\n",
              "  </tbody>\n",
              "</table>\n",
              "<p>10088 rows × 12 columns</p>\n",
              "</div>\n",
              "      <button class=\"colab-df-convert\" onclick=\"convertToInteractive('df-c96e0bc7-cc5d-422a-a4f6-c139c9f7269c')\"\n",
              "              title=\"Convert this dataframe to an interactive table.\"\n",
              "              style=\"display:none;\">\n",
              "        \n",
              "  <svg xmlns=\"http://www.w3.org/2000/svg\" height=\"24px\"viewBox=\"0 0 24 24\"\n",
              "       width=\"24px\">\n",
              "    <path d=\"M0 0h24v24H0V0z\" fill=\"none\"/>\n",
              "    <path d=\"M18.56 5.44l.94 2.06.94-2.06 2.06-.94-2.06-.94-.94-2.06-.94 2.06-2.06.94zm-11 1L8.5 8.5l.94-2.06 2.06-.94-2.06-.94L8.5 2.5l-.94 2.06-2.06.94zm10 10l.94 2.06.94-2.06 2.06-.94-2.06-.94-.94-2.06-.94 2.06-2.06.94z\"/><path d=\"M17.41 7.96l-1.37-1.37c-.4-.4-.92-.59-1.43-.59-.52 0-1.04.2-1.43.59L10.3 9.45l-7.72 7.72c-.78.78-.78 2.05 0 2.83L4 21.41c.39.39.9.59 1.41.59.51 0 1.02-.2 1.41-.59l7.78-7.78 2.81-2.81c.8-.78.8-2.07 0-2.86zM5.41 20L4 18.59l7.72-7.72 1.47 1.35L5.41 20z\"/>\n",
              "  </svg>\n",
              "      </button>\n",
              "      \n",
              "  <style>\n",
              "    .colab-df-container {\n",
              "      display:flex;\n",
              "      flex-wrap:wrap;\n",
              "      gap: 12px;\n",
              "    }\n",
              "\n",
              "    .colab-df-convert {\n",
              "      background-color: #E8F0FE;\n",
              "      border: none;\n",
              "      border-radius: 50%;\n",
              "      cursor: pointer;\n",
              "      display: none;\n",
              "      fill: #1967D2;\n",
              "      height: 32px;\n",
              "      padding: 0 0 0 0;\n",
              "      width: 32px;\n",
              "    }\n",
              "\n",
              "    .colab-df-convert:hover {\n",
              "      background-color: #E2EBFA;\n",
              "      box-shadow: 0px 1px 2px rgba(60, 64, 67, 0.3), 0px 1px 3px 1px rgba(60, 64, 67, 0.15);\n",
              "      fill: #174EA6;\n",
              "    }\n",
              "\n",
              "    [theme=dark] .colab-df-convert {\n",
              "      background-color: #3B4455;\n",
              "      fill: #D2E3FC;\n",
              "    }\n",
              "\n",
              "    [theme=dark] .colab-df-convert:hover {\n",
              "      background-color: #434B5C;\n",
              "      box-shadow: 0px 1px 3px 1px rgba(0, 0, 0, 0.15);\n",
              "      filter: drop-shadow(0px 1px 2px rgba(0, 0, 0, 0.3));\n",
              "      fill: #FFFFFF;\n",
              "    }\n",
              "  </style>\n",
              "\n",
              "      <script>\n",
              "        const buttonEl =\n",
              "          document.querySelector('#df-c96e0bc7-cc5d-422a-a4f6-c139c9f7269c button.colab-df-convert');\n",
              "        buttonEl.style.display =\n",
              "          google.colab.kernel.accessAllowed ? 'block' : 'none';\n",
              "\n",
              "        async function convertToInteractive(key) {\n",
              "          const element = document.querySelector('#df-c96e0bc7-cc5d-422a-a4f6-c139c9f7269c');\n",
              "          const dataTable =\n",
              "            await google.colab.kernel.invokeFunction('convertToInteractive',\n",
              "                                                     [key], {});\n",
              "          if (!dataTable) return;\n",
              "\n",
              "          const docLinkHtml = 'Like what you see? Visit the ' +\n",
              "            '<a target=\"_blank\" href=https://colab.research.google.com/notebooks/data_table.ipynb>data table notebook</a>'\n",
              "            + ' to learn more about interactive tables.';\n",
              "          element.innerHTML = '';\n",
              "          dataTable['output_type'] = 'display_data';\n",
              "          await google.colab.output.renderOutput(dataTable, element);\n",
              "          const docLink = document.createElement('div');\n",
              "          docLink.innerHTML = docLinkHtml;\n",
              "          element.appendChild(docLink);\n",
              "        }\n",
              "      </script>\n",
              "    </div>\n",
              "  </div>\n",
              "  "
            ]
          },
          "metadata": {},
          "execution_count": 28
        }
      ]
    },
    {
      "cell_type": "code",
      "source": [
        "hits = mil_1_hits[mil_1_hits['sseqid'].str.contains(\"CCU\")].sort_values('bitscore', ascending=False).drop_duplicates('qseqid')\n",
        "hits"
      ],
      "metadata": {
        "colab": {
          "base_uri": "https://localhost:8080/",
          "height": 488
        },
        "id": "JAWlFb5yjY-3",
        "outputId": "ac0ffec7-5865-4d34-a469-83c085d3fbdc"
      },
      "execution_count": null,
      "outputs": [
        {
          "output_type": "execute_result",
          "data": {
            "text/plain": [
              "       qseqid                               sseqid   pident  length  mismatch  \\\n",
              "2746     1016  lcl|HF680312.1_prot_CCU73896.1_3447   98.979    2253        23   \n",
              "4094     1471   lcl|HF680312.1_prot_CCU70724.1_275   97.870    2113        43   \n",
              "8685     3170  lcl|HF680312.1_prot_CCU71900.1_1451   99.878    1640         2   \n",
              "2573      945  lcl|HF680312.1_prot_CCU73861.1_3412   99.214    1654        13   \n",
              "9481     3447  lcl|HF680312.1_prot_CCU71621.1_1172   99.690    1611         5   \n",
              "...       ...                                  ...      ...     ...       ...   \n",
              "10038    3562   lcl|HF680312.1_prot_CCU70835.1_386   59.259      54        21   \n",
              "9471     3439  lcl|HF680312.1_prot_CCU71629.1_1180   61.224      49         8   \n",
              "8765     3213  lcl|HF680312.1_prot_CCU73367.1_2918   41.096      73        43   \n",
              "9852     3533  lcl|HF680312.1_prot_CCU73711.1_3262   29.592      98        63   \n",
              "5801     2097  lcl|HF680312.1_prot_CCU73039.1_2590  100.000      28         0   \n",
              "\n",
              "       gapopen  qstart  qend  sstart  send        evalue  bitscore  \n",
              "2746         0       1  2253       1  2253  0.000000e+00    4296.0  \n",
              "4094         1       7  2119       1  2111  0.000000e+00    4158.0  \n",
              "8685         0       1  1640       1  1640  0.000000e+00    3406.0  \n",
              "2573         0       1  1654       1  1654  0.000000e+00    3372.0  \n",
              "9481         0       1  1611       1  1611  0.000000e+00    3338.0  \n",
              "...        ...     ...   ...     ...   ...           ...       ...  \n",
              "10038        1       2    55    2784  2836  1.630000e-12      56.6  \n",
              "9471         1       2    39     139   187  1.280000e-11      54.7  \n",
              "8765         0       5    77       8    80  7.960000e-13      54.7  \n",
              "9852         2      16   112       4    96  1.250000e-11      53.5  \n",
              "5801         0       1    28       1    28  5.730000e-12      50.1  \n",
              "\n",
              "[3286 rows x 12 columns]"
            ],
            "text/html": [
              "\n",
              "  <div id=\"df-f6f102b9-24de-4d84-9a9c-b825257dd49f\">\n",
              "    <div class=\"colab-df-container\">\n",
              "      <div>\n",
              "<style scoped>\n",
              "    .dataframe tbody tr th:only-of-type {\n",
              "        vertical-align: middle;\n",
              "    }\n",
              "\n",
              "    .dataframe tbody tr th {\n",
              "        vertical-align: top;\n",
              "    }\n",
              "\n",
              "    .dataframe thead th {\n",
              "        text-align: right;\n",
              "    }\n",
              "</style>\n",
              "<table border=\"1\" class=\"dataframe\">\n",
              "  <thead>\n",
              "    <tr style=\"text-align: right;\">\n",
              "      <th></th>\n",
              "      <th>qseqid</th>\n",
              "      <th>sseqid</th>\n",
              "      <th>pident</th>\n",
              "      <th>length</th>\n",
              "      <th>mismatch</th>\n",
              "      <th>gapopen</th>\n",
              "      <th>qstart</th>\n",
              "      <th>qend</th>\n",
              "      <th>sstart</th>\n",
              "      <th>send</th>\n",
              "      <th>evalue</th>\n",
              "      <th>bitscore</th>\n",
              "    </tr>\n",
              "  </thead>\n",
              "  <tbody>\n",
              "    <tr>\n",
              "      <th>2746</th>\n",
              "      <td>1016</td>\n",
              "      <td>lcl|HF680312.1_prot_CCU73896.1_3447</td>\n",
              "      <td>98.979</td>\n",
              "      <td>2253</td>\n",
              "      <td>23</td>\n",
              "      <td>0</td>\n",
              "      <td>1</td>\n",
              "      <td>2253</td>\n",
              "      <td>1</td>\n",
              "      <td>2253</td>\n",
              "      <td>0.000000e+00</td>\n",
              "      <td>4296.0</td>\n",
              "    </tr>\n",
              "    <tr>\n",
              "      <th>4094</th>\n",
              "      <td>1471</td>\n",
              "      <td>lcl|HF680312.1_prot_CCU70724.1_275</td>\n",
              "      <td>97.870</td>\n",
              "      <td>2113</td>\n",
              "      <td>43</td>\n",
              "      <td>1</td>\n",
              "      <td>7</td>\n",
              "      <td>2119</td>\n",
              "      <td>1</td>\n",
              "      <td>2111</td>\n",
              "      <td>0.000000e+00</td>\n",
              "      <td>4158.0</td>\n",
              "    </tr>\n",
              "    <tr>\n",
              "      <th>8685</th>\n",
              "      <td>3170</td>\n",
              "      <td>lcl|HF680312.1_prot_CCU71900.1_1451</td>\n",
              "      <td>99.878</td>\n",
              "      <td>1640</td>\n",
              "      <td>2</td>\n",
              "      <td>0</td>\n",
              "      <td>1</td>\n",
              "      <td>1640</td>\n",
              "      <td>1</td>\n",
              "      <td>1640</td>\n",
              "      <td>0.000000e+00</td>\n",
              "      <td>3406.0</td>\n",
              "    </tr>\n",
              "    <tr>\n",
              "      <th>2573</th>\n",
              "      <td>945</td>\n",
              "      <td>lcl|HF680312.1_prot_CCU73861.1_3412</td>\n",
              "      <td>99.214</td>\n",
              "      <td>1654</td>\n",
              "      <td>13</td>\n",
              "      <td>0</td>\n",
              "      <td>1</td>\n",
              "      <td>1654</td>\n",
              "      <td>1</td>\n",
              "      <td>1654</td>\n",
              "      <td>0.000000e+00</td>\n",
              "      <td>3372.0</td>\n",
              "    </tr>\n",
              "    <tr>\n",
              "      <th>9481</th>\n",
              "      <td>3447</td>\n",
              "      <td>lcl|HF680312.1_prot_CCU71621.1_1172</td>\n",
              "      <td>99.690</td>\n",
              "      <td>1611</td>\n",
              "      <td>5</td>\n",
              "      <td>0</td>\n",
              "      <td>1</td>\n",
              "      <td>1611</td>\n",
              "      <td>1</td>\n",
              "      <td>1611</td>\n",
              "      <td>0.000000e+00</td>\n",
              "      <td>3338.0</td>\n",
              "    </tr>\n",
              "    <tr>\n",
              "      <th>...</th>\n",
              "      <td>...</td>\n",
              "      <td>...</td>\n",
              "      <td>...</td>\n",
              "      <td>...</td>\n",
              "      <td>...</td>\n",
              "      <td>...</td>\n",
              "      <td>...</td>\n",
              "      <td>...</td>\n",
              "      <td>...</td>\n",
              "      <td>...</td>\n",
              "      <td>...</td>\n",
              "      <td>...</td>\n",
              "    </tr>\n",
              "    <tr>\n",
              "      <th>10038</th>\n",
              "      <td>3562</td>\n",
              "      <td>lcl|HF680312.1_prot_CCU70835.1_386</td>\n",
              "      <td>59.259</td>\n",
              "      <td>54</td>\n",
              "      <td>21</td>\n",
              "      <td>1</td>\n",
              "      <td>2</td>\n",
              "      <td>55</td>\n",
              "      <td>2784</td>\n",
              "      <td>2836</td>\n",
              "      <td>1.630000e-12</td>\n",
              "      <td>56.6</td>\n",
              "    </tr>\n",
              "    <tr>\n",
              "      <th>9471</th>\n",
              "      <td>3439</td>\n",
              "      <td>lcl|HF680312.1_prot_CCU71629.1_1180</td>\n",
              "      <td>61.224</td>\n",
              "      <td>49</td>\n",
              "      <td>8</td>\n",
              "      <td>1</td>\n",
              "      <td>2</td>\n",
              "      <td>39</td>\n",
              "      <td>139</td>\n",
              "      <td>187</td>\n",
              "      <td>1.280000e-11</td>\n",
              "      <td>54.7</td>\n",
              "    </tr>\n",
              "    <tr>\n",
              "      <th>8765</th>\n",
              "      <td>3213</td>\n",
              "      <td>lcl|HF680312.1_prot_CCU73367.1_2918</td>\n",
              "      <td>41.096</td>\n",
              "      <td>73</td>\n",
              "      <td>43</td>\n",
              "      <td>0</td>\n",
              "      <td>5</td>\n",
              "      <td>77</td>\n",
              "      <td>8</td>\n",
              "      <td>80</td>\n",
              "      <td>7.960000e-13</td>\n",
              "      <td>54.7</td>\n",
              "    </tr>\n",
              "    <tr>\n",
              "      <th>9852</th>\n",
              "      <td>3533</td>\n",
              "      <td>lcl|HF680312.1_prot_CCU73711.1_3262</td>\n",
              "      <td>29.592</td>\n",
              "      <td>98</td>\n",
              "      <td>63</td>\n",
              "      <td>2</td>\n",
              "      <td>16</td>\n",
              "      <td>112</td>\n",
              "      <td>4</td>\n",
              "      <td>96</td>\n",
              "      <td>1.250000e-11</td>\n",
              "      <td>53.5</td>\n",
              "    </tr>\n",
              "    <tr>\n",
              "      <th>5801</th>\n",
              "      <td>2097</td>\n",
              "      <td>lcl|HF680312.1_prot_CCU73039.1_2590</td>\n",
              "      <td>100.000</td>\n",
              "      <td>28</td>\n",
              "      <td>0</td>\n",
              "      <td>0</td>\n",
              "      <td>1</td>\n",
              "      <td>28</td>\n",
              "      <td>1</td>\n",
              "      <td>28</td>\n",
              "      <td>5.730000e-12</td>\n",
              "      <td>50.1</td>\n",
              "    </tr>\n",
              "  </tbody>\n",
              "</table>\n",
              "<p>3286 rows × 12 columns</p>\n",
              "</div>\n",
              "      <button class=\"colab-df-convert\" onclick=\"convertToInteractive('df-f6f102b9-24de-4d84-9a9c-b825257dd49f')\"\n",
              "              title=\"Convert this dataframe to an interactive table.\"\n",
              "              style=\"display:none;\">\n",
              "        \n",
              "  <svg xmlns=\"http://www.w3.org/2000/svg\" height=\"24px\"viewBox=\"0 0 24 24\"\n",
              "       width=\"24px\">\n",
              "    <path d=\"M0 0h24v24H0V0z\" fill=\"none\"/>\n",
              "    <path d=\"M18.56 5.44l.94 2.06.94-2.06 2.06-.94-2.06-.94-.94-2.06-.94 2.06-2.06.94zm-11 1L8.5 8.5l.94-2.06 2.06-.94-2.06-.94L8.5 2.5l-.94 2.06-2.06.94zm10 10l.94 2.06.94-2.06 2.06-.94-2.06-.94-.94-2.06-.94 2.06-2.06.94z\"/><path d=\"M17.41 7.96l-1.37-1.37c-.4-.4-.92-.59-1.43-.59-.52 0-1.04.2-1.43.59L10.3 9.45l-7.72 7.72c-.78.78-.78 2.05 0 2.83L4 21.41c.39.39.9.59 1.41.59.51 0 1.02-.2 1.41-.59l7.78-7.78 2.81-2.81c.8-.78.8-2.07 0-2.86zM5.41 20L4 18.59l7.72-7.72 1.47 1.35L5.41 20z\"/>\n",
              "  </svg>\n",
              "      </button>\n",
              "      \n",
              "  <style>\n",
              "    .colab-df-container {\n",
              "      display:flex;\n",
              "      flex-wrap:wrap;\n",
              "      gap: 12px;\n",
              "    }\n",
              "\n",
              "    .colab-df-convert {\n",
              "      background-color: #E8F0FE;\n",
              "      border: none;\n",
              "      border-radius: 50%;\n",
              "      cursor: pointer;\n",
              "      display: none;\n",
              "      fill: #1967D2;\n",
              "      height: 32px;\n",
              "      padding: 0 0 0 0;\n",
              "      width: 32px;\n",
              "    }\n",
              "\n",
              "    .colab-df-convert:hover {\n",
              "      background-color: #E2EBFA;\n",
              "      box-shadow: 0px 1px 2px rgba(60, 64, 67, 0.3), 0px 1px 3px 1px rgba(60, 64, 67, 0.15);\n",
              "      fill: #174EA6;\n",
              "    }\n",
              "\n",
              "    [theme=dark] .colab-df-convert {\n",
              "      background-color: #3B4455;\n",
              "      fill: #D2E3FC;\n",
              "    }\n",
              "\n",
              "    [theme=dark] .colab-df-convert:hover {\n",
              "      background-color: #434B5C;\n",
              "      box-shadow: 0px 1px 3px 1px rgba(0, 0, 0, 0.15);\n",
              "      filter: drop-shadow(0px 1px 2px rgba(0, 0, 0, 0.3));\n",
              "      fill: #FFFFFF;\n",
              "    }\n",
              "  </style>\n",
              "\n",
              "      <script>\n",
              "        const buttonEl =\n",
              "          document.querySelector('#df-f6f102b9-24de-4d84-9a9c-b825257dd49f button.colab-df-convert');\n",
              "        buttonEl.style.display =\n",
              "          google.colab.kernel.accessAllowed ? 'block' : 'none';\n",
              "\n",
              "        async function convertToInteractive(key) {\n",
              "          const element = document.querySelector('#df-f6f102b9-24de-4d84-9a9c-b825257dd49f');\n",
              "          const dataTable =\n",
              "            await google.colab.kernel.invokeFunction('convertToInteractive',\n",
              "                                                     [key], {});\n",
              "          if (!dataTable) return;\n",
              "\n",
              "          const docLinkHtml = 'Like what you see? Visit the ' +\n",
              "            '<a target=\"_blank\" href=https://colab.research.google.com/notebooks/data_table.ipynb>data table notebook</a>'\n",
              "            + ' to learn more about interactive tables.';\n",
              "          element.innerHTML = '';\n",
              "          dataTable['output_type'] = 'display_data';\n",
              "          await google.colab.output.renderOutput(dataTable, element);\n",
              "          const docLink = document.createElement('div');\n",
              "          docLink.innerHTML = docLinkHtml;\n",
              "          element.appendChild(docLink);\n",
              "        }\n",
              "      </script>\n",
              "    </div>\n",
              "  </div>\n",
              "  "
            ]
          },
          "metadata": {},
          "execution_count": 27
        }
      ]
    },
    {
      "cell_type": "code",
      "source": [
        "for i, hit in hits.iterrows():\n",
        "  gene = genes[str(hit['qseqid'])]\n",
        "  match = hit['sseqid'].split('_')[2]\n",
        "  gene.qualifiers['product'] = [mil_1_genes[match]]"
      ],
      "metadata": {
        "id": "qQZPTlF3jhL7"
      },
      "execution_count": null,
      "outputs": []
    },
    {
      "cell_type": "code",
      "source": [
        "!wget -nc https://ftp.uniprot.org/pub/databases/uniprot/current_release/knowledgebase/complete/uniprot_sprot.dat.gz\n",
        "!gzip -d uniprot_sprot.dat.gz"
      ],
      "metadata": {
        "colab": {
          "base_uri": "https://localhost:8080/"
        },
        "id": "ipY8NS6CkJUp",
        "outputId": "33a1e2cc-2ef1-4fa1-fab0-358c7ca26387"
      },
      "execution_count": null,
      "outputs": [
        {
          "output_type": "stream",
          "name": "stdout",
          "text": [
            "--2022-10-18 19:27:26--  https://ftp.uniprot.org/pub/databases/uniprot/current_release/knowledgebase/complete/uniprot_sprot.dat.gz\n",
            "Resolving ftp.uniprot.org (ftp.uniprot.org)... 128.175.240.195\n",
            "Connecting to ftp.uniprot.org (ftp.uniprot.org)|128.175.240.195|:443... connected.\n",
            "HTTP request sent, awaiting response... 200 OK\n",
            "Length: 642093634 (612M) [application/x-gzip]\n",
            "Saving to: ‘uniprot_sprot.dat.gz’\n",
            "\n",
            "uniprot_sprot.dat.g 100%[===================>] 612.35M  43.5MB/s    in 14s     \n",
            "\n",
            "2022-10-18 19:27:40 (44.1 MB/s) - ‘uniprot_sprot.dat.gz’ saved [642093634/642093634]\n",
            "\n"
          ]
        }
      ]
    },
    {
      "cell_type": "code",
      "source": [
        "!grep '^ID\\|^DE   RecName: Full=' uniprot_sprot.dat > SwissProt_names.txt"
      ],
      "metadata": {
        "id": "4wuIZAK7kVm5"
      },
      "execution_count": null,
      "outputs": []
    },
    {
      "cell_type": "code",
      "source": [
        "previd = None\n",
        "swissgenes = dict()\n",
        "for line in open('SwissProt_names.txt'):\n",
        "  if line.startswith('ID'):\n",
        "    previd = line.split()[1]\n",
        "  if line.startswith('DE'):\n",
        "    swissgenes[previd] = line.split('=')[1][:-2]"
      ],
      "metadata": {
        "id": "7iuvLNHZkYhp"
      },
      "execution_count": null,
      "outputs": []
    },
    {
      "cell_type": "code",
      "source": [
        "swisshits_raw = pd.read_csv('scaffolds.hits_from_SwissProt.txt', sep='\\t', header=None, names=names)\n",
        "swisshits = swisshits_raw.sort_values('bitscore', ascending=False).drop_duplicates('qseqid')\n",
        "\n",
        "for i, hit in swisshits.iterrows():\n",
        "  gene = genes[str(hit['qseqid'])]\n",
        "  match = hit['sseqid'].split('|')[-1]\n",
        "  gene.qualifiers['product'] = [swissgenes[match]]"
      ],
      "metadata": {
        "id": "wnnmhPxUkbwx"
      },
      "execution_count": null,
      "outputs": []
    },
    {
      "cell_type": "code",
      "source": [
        "SeqIO.write(scaffolds.values(), \"GENOME.gbk\", \"genbank\")"
      ],
      "metadata": {
        "colab": {
          "base_uri": "https://localhost:8080/"
        },
        "id": "BSkyQOK5kgai",
        "outputId": "16cf0b91-c0ed-4602-e72e-8d510bc8b7f9"
      },
      "execution_count": null,
      "outputs": [
        {
          "output_type": "execute_result",
          "data": {
            "text/plain": [
              "74"
            ]
          },
          "metadata": {},
          "execution_count": 34
        }
      ]
    }
  ]
}